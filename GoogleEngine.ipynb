{
 "cells": [
  {
   "cell_type": "markdown",
   "metadata": {},
   "source": [
    "# Creating indexes"
   ]
  },
  {
   "cell_type": "code",
   "execution_count": 60,
   "metadata": {
    "ExecuteTime": {
     "end_time": "2017-10-01T10:59:44.028619Z",
     "start_time": "2017-10-01T13:59:44.018634+03:00"
    },
    "collapsed": true
   },
   "outputs": [],
   "source": [
    "from nltk.corpus import gutenberg\n",
    "from nltk import word_tokenize\n",
    "import nltk\n",
    "import pickle"
   ]
  },
  {
   "cell_type": "code",
   "execution_count": null,
   "metadata": {
    "collapsed": true
   },
   "outputs": [],
   "source": [
    "exclude_words = set([\".\",\",\", \"?\", \"!\", \"[\", \"]\", \"(\", \")\", \"+\", \"-\", \"/\", \"*\", \"=\", \"<\", \">\", \"&\", \"#\"])"
   ]
  },
  {
   "cell_type": "code",
   "execution_count": 52,
   "metadata": {
    "ExecuteTime": {
     "end_time": "2017-10-01T10:42:06.935041Z",
     "start_time": "2017-10-01T13:36:13.001183+03:00"
    }
   },
   "outputs": [],
   "source": [
    "indexes = {}\n",
    "document_size_dict = {}\n",
    "for doc_id in gutenberg.fileids():\n",
    "    word_count = 0\n",
    "    text = gutenberg.raw(doc_id)\n",
    "    tokens = word_tokenize(text)\n",
    "    offset = 0\n",
    "    for token in tokens:\n",
    "        token = token.lower()\n",
    "        if token in exclude_words:\n",
    "            continue\n",
    "        word_count += 1\n",
    "        offset = text.find(token, offset)        \n",
    "        word_len = len(token)\n",
    "        term_index_dict = indexes.get(token, None)\n",
    "        if term_index_dict is None:\n",
    "            term_index_dict = {}\n",
    "            indexes[token] = term_index_dict\n",
    "        info = term_index_dict.get(doc_id, None)\n",
    "        if info is None:\n",
    "            info = {\"pos\":[offset], \"len\": word_len}\n",
    "            term_index_dict[doc_id] = info\n",
    "        else:\n",
    "            pos_list = info.get(\"pos\")\n",
    "            pos_list.append(offset)\n",
    "        offset += word_len\n",
    "    document_size_dict[doc_id] = word_count"
   ]
  },
  {
   "cell_type": "code",
   "execution_count": 55,
   "metadata": {
    "ExecuteTime": {
     "end_time": "2017-10-01T10:42:34.282693Z",
     "start_time": "2017-10-01T13:42:34.262188+03:00"
    },
    "collapsed": true
   },
   "outputs": [],
   "source": [
    "def save_obj(obj, name ):\n",
    "    with open('data/'+ name + '.pkl', 'wb') as f:\n",
    "        pickle.dump(obj, f, pickle.HIGHEST_PROTOCOL)\n",
    "\n",
    "def load_obj(name):\n",
    "    with open('data/' + name + '.pkl', 'rb') as f:\n",
    "        return pickle.load(f)\n",
    "\n",
    "def calculate_TFIDF(indexes, document_size_dict):\n",
    "    corpus_size = float(len(document_size_dict))\n",
    "    for token, term_index_dict in indexes.items():\n",
    "        IDF = corpus_size / len(term_index_dict)\n",
    "        for doc, info in term_index_dict.items():\n",
    "            positions_list = info[\"pos\"]\n",
    "            TF = len(positions_list) / document_size_dict[doc]\n",
    "            info[\"TFIDF\"] = TF * IDF"
   ]
  },
  {
   "cell_type": "code",
   "execution_count": 56,
   "metadata": {
    "ExecuteTime": {
     "end_time": "2017-10-01T10:42:36.855550Z",
     "start_time": "2017-10-01T13:42:36.571001+03:00"
    }
   },
   "outputs": [],
   "source": [
    "calculate_TFIDF(indexes, document_size_dict)"
   ]
  },
  {
   "cell_type": "code",
   "execution_count": 61,
   "metadata": {
    "ExecuteTime": {
     "end_time": "2017-10-01T10:59:51.270825Z",
     "start_time": "2017-10-01T13:59:50.233680+03:00"
    }
   },
   "outputs": [],
   "source": [
    "save_obj(indexes, \"indexes\")"
   ]
  },
  {
   "cell_type": "markdown",
   "metadata": {},
   "source": [
    "# Search"
   ]
  },
  {
   "cell_type": "code",
   "execution_count": 66,
   "metadata": {
    "ExecuteTime": {
     "end_time": "2017-10-01T11:06:58.417754Z",
     "start_time": "2017-10-01T14:06:58.409253+03:00"
    },
    "collapsed": true
   },
   "outputs": [],
   "source": [
    "query = \"he suffer\""
   ]
  },
  {
   "cell_type": "code",
   "execution_count": null,
   "metadata": {
    "collapsed": true
   },
   "outputs": [],
   "source": [
    "def search(indexes, query, stop_words):\n",
    "    terms = []\n",
    "    for token in word_tokenize(query):\n",
    "        if token in stop_words:\n",
    "            continue\n",
    "        terms.append(indexes[token])\n",
    "    return terms\n",
    "    \n",
    "def ranking(terms):    \n",
    "    result = []\n",
    "    if len(terms) > 0:\n",
    "        intersection = set(terms[0].keys())\n",
    "        for term in terms:\n",
    "            intersection = intersection & term.keys()\n",
    "        if len(intersection) > 0:\n",
    "            pass\n",
    "        else:\n",
    "            pass\n",
    "    \n",
    "    return result"
   ]
  },
  {
   "cell_type": "code",
   "execution_count": 70,
   "metadata": {
    "ExecuteTime": {
     "end_time": "2017-10-01T11:10:18.021958Z",
     "start_time": "2017-10-01T14:10:18.011457+03:00"
    },
    "collapsed": true
   },
   "outputs": [],
   "source": [
    "d = dict()\n",
    "d[\"s\"] = 1"
   ]
  },
  {
   "cell_type": "code",
   "execution_count": 73,
   "metadata": {
    "ExecuteTime": {
     "end_time": "2017-10-01T11:10:56.800972Z",
     "start_time": "2017-10-01T14:10:56.787471+03:00"
    }
   },
   "outputs": [
    {
     "name": "stdout",
     "output_type": "stream",
     "text": [
      "Object `intersect` not found.\n"
     ]
    }
   ],
   "source": [
    "d.keys().intersect??"
   ]
  },
  {
   "cell_type": "code",
   "execution_count": null,
   "metadata": {
    "collapsed": true
   },
   "outputs": [],
   "source": [
    "d.keys().intersect"
   ]
  }
 ],
 "metadata": {
  "kernelspec": {
   "display_name": "Python 3",
   "language": "python",
   "name": "python3"
  },
  "language_info": {
   "codemirror_mode": {
    "name": "ipython",
    "version": 3
   },
   "file_extension": ".py",
   "mimetype": "text/x-python",
   "name": "python",
   "nbconvert_exporter": "python",
   "pygments_lexer": "ipython3",
   "version": "3.6.0"
  },
  "toc": {
   "colors": {
    "hover_highlight": "#DAA520",
    "navigate_num": "#000000",
    "navigate_text": "#333333",
    "running_highlight": "#FF0000",
    "selected_highlight": "#FFD700",
    "sidebar_border": "#EEEEEE",
    "wrapper_background": "#FFFFFF"
   },
   "moveMenuLeft": true,
   "nav_menu": {
    "height": "49px",
    "width": "252px"
   },
   "navigate_menu": true,
   "number_sections": true,
   "sideBar": true,
   "threshold": 4,
   "toc_cell": false,
   "toc_section_display": "block",
   "toc_window_display": false,
   "widenNotebook": false
  },
  "varInspector": {
   "cols": {
    "lenName": 16,
    "lenType": 16,
    "lenVar": 40
   },
   "kernels_config": {
    "python": {
     "delete_cmd_postfix": "",
     "delete_cmd_prefix": "del ",
     "library": "var_list.py",
     "varRefreshCmd": "print(var_dic_list())"
    },
    "r": {
     "delete_cmd_postfix": ") ",
     "delete_cmd_prefix": "rm(",
     "library": "var_list.r",
     "varRefreshCmd": "cat(var_dic_list()) "
    }
   },
   "types_to_exclude": [
    "module",
    "function",
    "builtin_function_or_method",
    "instance",
    "_Feature"
   ],
   "window_display": false
  }
 },
 "nbformat": 4,
 "nbformat_minor": 2
}
